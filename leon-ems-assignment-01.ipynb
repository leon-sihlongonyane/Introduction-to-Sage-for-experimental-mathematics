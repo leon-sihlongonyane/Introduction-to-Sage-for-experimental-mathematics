{
 "cells": [
  {
   "cell_type": "markdown",
   "metadata": {},
   "source": [
    "### LEON MANGALISO SIHLONGONYANE\n",
    "#### EXPERIMENTAL MATHEMATICS WITH SAGE: ASSIGNMENT 1"
   ]
  },
  {
   "cell_type": "markdown",
   "metadata": {},
   "source": [
    "## Exercise 01\n",
    "\n",
    "Plot `sin(x)` from $0$ to $\\pi$ along with its third derivative on the same set of axes, in a different color.  Make the vertical axes range from $-4$ to $+4$."
   ]
  },
  {
   "cell_type": "code",
   "execution_count": 35,
   "metadata": {},
   "outputs": [
    {
     "data": {
      "image/png": "[encoded data removed]",
      "text/plain": [
       "Graphics object consisting of 2 graphics primitives"
      ]
     },
     "metadata": {},
     "output_type": "display_data"
    }
   ],
   "source": [
    "f(x)= sin(x)\n",
    "df = derivative(f(x),x,3)\n",
    "a = plot([])\n",
    "a += plot(f(x) ,(0,pi), color = 'green') + plot(df,(0,pi), color='black')\n",
    "a.show(ymin=-4, ymax=4, axes_labels=['$x$','$F(x)$']) "
   ]
  },
  {
   "cell_type": "markdown",
   "metadata": {},
   "source": [
    "## Exercise 02 \n",
    "\n",
    "Create a nontrivial $5 \\times 5$ diagonal matrix in _SageMath_ using a special command for it, and verify that the diagonal entries are the same as the eigenvalues of the matrix.  Confirm that the eigenvectors are just the elementary basis vectors."
   ]
  },
  {
   "cell_type": "code",
   "execution_count": 45,
   "metadata": {},
   "outputs": [
    {
     "data": {
      "text/html": [
       "<html><script type=\"math/tex; mode=display\">\\newcommand{\\Bold}[1]{\\mathbf{#1}}\\left(\\begin{array}{rrrrr}\n",
       "2 & 0 & 0 & 0 & 0 \\\\\n",
       "0 & 7 & 0 & 0 & 0 \\\\\n",
       "0 & 0 & 3 & 0 & 0 \\\\\n",
       "0 & 0 & 0 & 9 & 0 \\\\\n",
       "0 & 0 & 0 & 0 & 1\n",
       "\\end{array}\\right)</script></html>"
      ],
      "text/latex": [
       "\\begin{math}\n",
       "\\newcommand{\\Bold}[1]{\\mathbf{#1}}\\left(\\begin{array}{rrrrr}\n",
       "2 & 0 & 0 & 0 & 0 \\\\\n",
       "0 & 7 & 0 & 0 & 0 \\\\\n",
       "0 & 0 & 3 & 0 & 0 \\\\\n",
       "0 & 0 & 0 & 9 & 0 \\\\\n",
       "0 & 0 & 0 & 0 & 1\n",
       "\\end{array}\\right)\n",
       "\\end{math}"
      ],
      "text/plain": [
       "[2 0 0 0 0]\n",
       "[0 7 0 0 0]\n",
       "[0 0 3 0 0]\n",
       "[0 0 0 9 0]\n",
       "[0 0 0 0 1]"
      ]
     },
     "metadata": {},
     "output_type": "display_data"
    }
   ],
   "source": [
    "M = diagonal_matrix((2,7,3,9,1)) #diagonal matrix\n",
    "show(M)"
   ]
  },
  {
   "cell_type": "code",
   "execution_count": 51,
   "metadata": {},
   "outputs": [
    {
     "name": "stdout",
     "output_type": "stream",
     "text": [
      "diagonal entries [2, 7, 3, 9, 1] and eigenvalues [9, 7, 3, 2, 1]\n"
     ]
    }
   ],
   "source": [
    "md = M.diagonal()\n",
    "me= M.eigenvalues() \n",
    "print('diagonal entries {} and eigenvalues {}'.format(md, me))"
   ]
  },
  {
   "cell_type": "markdown",
   "metadata": {},
   "source": [
    "We can see from above that  diagonal entries are the same as the eigenvalues of the matrix."
   ]
  },
  {
   "cell_type": "code",
   "execution_count": 54,
   "metadata": {},
   "outputs": [
    {
     "data": {
      "text/html": [
       "<html><script type=\"math/tex; mode=display\">\\newcommand{\\Bold}[1]{\\mathbf{#1}}\\left[\\left(9, \\left[\\left(0,\\,0,\\,0,\\,1,\\,0\\right)\\right], 1\\right), \\left(7, \\left[\\left(0,\\,1,\\,0,\\,0,\\,0\\right)\\right], 1\\right), \\left(3, \\left[\\left(0,\\,0,\\,1,\\,0,\\,0\\right)\\right], 1\\right), \\left(2, \\left[\\left(1,\\,0,\\,0,\\,0,\\,0\\right)\\right], 1\\right), \\left(1, \\left[\\left(0,\\,0,\\,0,\\,0,\\,1\\right)\\right], 1\\right)\\right]</script></html>"
      ],
      "text/latex": [
       "\\begin{math}\n",
       "\\newcommand{\\Bold}[1]{\\mathbf{#1}}\\left[\\left(9, \\left[\\left(0,\\,0,\\,0,\\,1,\\,0\\right)\\right], 1\\right), \\left(7, \\left[\\left(0,\\,1,\\,0,\\,0,\\,0\\right)\\right], 1\\right), \\left(3, \\left[\\left(0,\\,0,\\,1,\\,0,\\,0\\right)\\right], 1\\right), \\left(2, \\left[\\left(1,\\,0,\\,0,\\,0,\\,0\\right)\\right], 1\\right), \\left(1, \\left[\\left(0,\\,0,\\,0,\\,0,\\,1\\right)\\right], 1\\right)\\right]\n",
       "\\end{math}"
      ],
      "text/plain": [
       "[(9,\n",
       "  [\n",
       "  (0, 0, 0, 1, 0)\n",
       "  ],\n",
       "  1),\n",
       " (7,\n",
       "  [\n",
       "  (0, 1, 0, 0, 0)\n",
       "  ],\n",
       "  1),\n",
       " (3,\n",
       "  [\n",
       "  (0, 0, 1, 0, 0)\n",
       "  ],\n",
       "  1),\n",
       " (2,\n",
       "  [\n",
       "  (1, 0, 0, 0, 0)\n",
       "  ],\n",
       "  1),\n",
       " (1,\n",
       "  [\n",
       "  (0, 0, 0, 0, 1)\n",
       "  ],\n",
       "  1)]"
      ]
     },
     "metadata": {},
     "output_type": "display_data"
    }
   ],
   "source": [
    "show(M.eigenvectors_right())"
   ]
  },
  {
   "cell_type": "markdown",
   "metadata": {},
   "source": [
    "## Exercise 03 \n",
    "\n",
    "For each of the numbers $n=10, 100, 1000, 10000, 100000, 1000000, 10000000$ and $100000000$ compare the number of primes less than n to the value of `n/log(n)`.  You just need to make a table or write some sentences on what your observe.  (Here, `log` is the natural logarithm and you may want to read the documentation on the _SageMath_ function `table` in order to tabulate your results.) "
   ]
  },
  {
   "cell_type": "code",
   "execution_count": 160,
   "metadata": {},
   "outputs": [],
   "source": [
    "import numpy as np  #importing package\n",
    "def comp_num(n):\n",
    "    x = len([i for i in range(n) if is_prime(i)])   # for loop to iterate n times.\n",
    "    return x , (n / np.log(n)) "
   ]
  },
  {
   "cell_type": "code",
   "execution_count": 161,
   "metadata": {},
   "outputs": [
    {
     "name": "stdout",
     "output_type": "stream",
     "text": [
      "10\t \t(4, 4.3429448190325175)\n",
      "100\t \t(25, 21.71472409516259)\n",
      "1000\t \t(168, 144.76482730108395)\n",
      "10000\t \t(1229, 1085.7362047581294)\n",
      "100000\t \t(9592, 8685.889638065037)\n",
      "1000000\t \t(78498, 72382.41365054197)\n"
     ]
    }
   ],
   "source": [
    "n_numbers = [10, 100, 1000, 10000,100000,1000000] #making list\n",
    "for j in n_numbers :\n",
    "    print(\"{}\\t \\t{}\".format(j, comp_num(j))) #prints pair of primes and nlog(n) values"
   ]
  },
  {
   "cell_type": "code",
   "execution_count": 126,
   "metadata": {},
   "outputs": [
    {
     "data": {
      "text/plain": [
       "2"
      ]
     },
     "execution_count": 126,
     "metadata": {},
     "output_type": "execute_result"
    }
   ],
   "source": []
  },
  {
   "cell_type": "markdown",
   "metadata": {},
   "source": [
    "## Exercise 04 \n",
    "Solve any differential equation using _SageMath_. (Hint: Read the documentation [here](https://doc.sagemath.org/html/en/reference/calculus/sage/calculus/desolvers.html), but you are <strong>NOT</strong> allowed to use the examples in the documentation, try to formulate your own.)"
   ]
  },
  {
   "cell_type": "code",
   "execution_count": 166,
   "metadata": {},
   "outputs": [
    {
     "data": {
      "text/html": [
       "<html><script type=\"math/tex; mode=display\">\\newcommand{\\Bold}[1]{\\mathbf{#1}}\\frac{1}{2} \\, x^{2} + C</script></html>"
      ],
      "text/latex": [
       "\\begin{math}\n",
       "\\newcommand{\\Bold}[1]{\\mathbf{#1}}\\frac{1}{2} \\, x^{2} + C\n",
       "\\end{math}"
      ],
      "text/plain": [
       "1/2*x^2 + _C"
      ]
     },
     "metadata": {},
     "output_type": "display_data"
    }
   ],
   "source": [
    "x=var('x')  #making variable x\n",
    "p = function('p')(x) #function that takes the varaible\n",
    "solve_ode = desolve(x - diff(p,x),p)   #solving the ode\n",
    "show(solve_ode) "
   ]
  },
  {
   "cell_type": "code",
   "execution_count": 169,
   "metadata": {},
   "outputs": [
    {
     "data": {
      "text/html": [
       "<html><script type=\"math/tex; mode=display\">\\newcommand{\\Bold}[1]{\\mathbf{#1}}x - \\frac{\\partial}{\\partial x}p\\left(x\\right) = 0</script></html>"
      ],
      "text/latex": [
       "\\begin{math}\n",
       "\\newcommand{\\Bold}[1]{\\mathbf{#1}}x - \\frac{\\partial}{\\partial x}p\\left(x\\right) = 0\n",
       "\\end{math}"
      ],
      "text/plain": [
       "x - diff(p(x), x) == 0"
      ]
     },
     "metadata": {},
     "output_type": "display_data"
    }
   ],
   "source": [
    "show(x - diff(p,x)==0)  #displaying ODE."
   ]
  },
  {
   "cell_type": "markdown",
   "metadata": {},
   "source": [
    "## Exercise 05  \n",
    "(*) Write a formal proof for the following statements: \n",
    "   - Suppose $a, b, c$ are real numbers and $a > b$. Prove that if $a\\,c \\leq b\\,c$ then $c \\leq 0$. \n",
    "   - Prove that for every natural number $n$, $3$ divides $(-n + n^3)$."
   ]
  },
  {
   "cell_type": "markdown",
   "metadata": {},
   "source": [
    "**Proof 1**\n",
    "***\n",
    "**Goal:** Given $a > b$, start with $ac \\leq bc$ true , then show $c \\leq 0$ is true.\n",
    "\n",
    "We start with \n",
    "$$ac \\leq bc$$\n",
    "$$ \\Rightarrow ac - bc \\leq 0$$\n",
    "But $a > b \\Rightarrow a - b > 0$\n",
    "$$ \\Rightarrow c \\leq 0$$\n",
    "For the satement to make sense.\n",
    "\n",
    "**Proof 2**\n",
    "***\n",
    "By induction\n",
    "- for $P(n=2)$        we have $$-(2) + (2)^3 = 6$$ which is divisible by 3.\n",
    "- assume true for $P(n=k)$      we have $$-k + k^3 = 3M$$ we can write this as $k^3 = 3M +k$ for computation purposes.\n",
    "- proving for $P(n=k + 1)$\n",
    "\n",
    "$$-(k +1) + (k+1)^3 = -k - 1 + k^3 + 3k^2 + 3k + 1$$\n",
    "$$=  3M + 3k^2 + 3k$$ \n",
    "$$= 3 (M + k^2 + k )$$\n",
    "\n",
    "which show $P(k+1)$ is divisible by 3."
   ]
  },
  {
   "cell_type": "code",
   "execution_count": null,
   "metadata": {},
   "outputs": [],
   "source": []
  },
  {
   "cell_type": "markdown",
   "metadata": {},
   "source": [
    "## Exercise 06\n",
    "\n",
    "(*) Suppose $n$ is an integer greater than $1$ and $n$ is not prime. Then $-1 + 2^n$ is not prime.\n",
    "   - Identify the hypothesis and conclusion of the theorem. Are the hypothesis true when $n = 6$? What does the theorem tell you in this instance? Is it right?\n",
    "   - What can you conclude from the statement in the case $n = 15$? Check directly that this conclusion is correct.\n",
    "   - What can you conclude from the statement in the case $n = 29$?\n",
    "   \n",
    "Hint: Read the PDF document on proof methods that I sent you. You may take a look at <strong>Example 3.1.2</strong> on pages 88 and 80. In that example, what is referred to as <em>Givens</em> and <em>Goal</em> are the <em>hypothesis</em> and <em>conclusion</em> respectively in the statement of this exercise, <a href=\"#exercise-06\"><b><font color=#AAFF00>Exercise 06</font></b></a>."
   ]
  },
  {
   "cell_type": "markdown",
   "metadata": {},
   "source": [
    "***\n",
    "1. The hypothesis is: supppose $n$ an integer greater than $1$ and $n$ not prime be true. The conclusion is that it should be true that $ -1+2^{n}$ is not prime. Yes, $n= 6 > 1$ and not prime. So according to the theorem, $-1+2^6 = 63$ is not prime. Yes,for this case, this is not prime, i.e $63 = 9 \\times 7$ and this composite, instead. \n",
    "\n",
    "2. For $n=15$, we get $32767$ which is not prime. We can conclude true for this case as well.\n",
    "\n",
    "3. For $n=29$, we get $536870911$ which is not prime, but 29 is prime in the first place. We can conclude that if the conclusion is true, it is not always that the hypothesis is true."
   ]
  },
  {
   "cell_type": "markdown",
   "metadata": {},
   "source": [
    "## Exercise 07\n",
    "\n",
    "(*) Prove that if $a$ divides $x$ and $a$ divides $y$, then $a$ divides $m\\,x+n\\,y$ for any integers $m,\\,n$.  (Don't copy this from somewhere, actually write in your own words!) You may use any of the proof methods we mentioned in class."
   ]
  },
  {
   "cell_type": "markdown",
   "metadata": {},
   "source": [
    "**Direct proof**\n",
    "\n",
    "<b>goal:<b/> $ a | x$ and $a | y$ implies $a | (mx + ny)$\n",
    "    \n",
    "We know that if  $a$ divides $x$ then it divides multiply of $x$. i.e $mx$. Also if  $a$ divides $y$ then it divides multiply of $y$. i.e $ny$. It follows that $a | mx$ implies $\\exists q \\in \\mathbb{Z}$ s.t we write $mx =aq$. Also, $a | ny$ implies $\\exists k \\in \\mathbb{Z}$ s.t we write $ny=ak$ \n",
    "\n",
    "We add as $mx + ny = aq + ak = a(q + k)$ were $q+k$ is an integer. From here, we ge that $a$ divides $mx + ny$."
   ]
  },
  {
   "cell_type": "code",
   "execution_count": null,
   "metadata": {},
   "outputs": [],
   "source": []
  },
  {
   "cell_type": "markdown",
   "metadata": {},
   "source": [
    "## Exercise 08\n",
    "\n",
    "(*) Compute the <b>Conductor</b> and <b>Frobenius number</b> of the following pairs: $\\{4,\\,7\\}$, $\\{4,\\,6\\}$, and $\\{7,\\,9\\}$, if they exist.  How many numbers are not writable in each case?"
   ]
  },
  {
   "cell_type": "code",
   "execution_count": 25,
   "metadata": {},
   "outputs": [],
   "source": [
    "def cond_frob(a,b, bound):   #defining function of conductor and frobenius\n",
    "    value= []   # initiating for looping\n",
    "    for n in range(bound):\n",
    "        for m in range(bound):\n",
    "            value.append(a*n + b*m)\n",
    "    noneValue=[]\n",
    "    for j in range(bound):\n",
    "        if j not in value:\n",
    "            noneValue.append(j)\n",
    "    return max(noneValue),max(noneValue)+1, len(noneValue)   #prints number we can't give within range, conductor and lenght or number of the numbers not expressible."
   ]
  },
  {
   "cell_type": "code",
   "execution_count": 26,
   "metadata": {},
   "outputs": [
    {
     "data": {
      "text/plain": [
       "(9, 10, 6)"
      ]
     },
     "execution_count": 26,
     "metadata": {},
     "output_type": "execute_result"
    }
   ],
   "source": [
    "cond_frob(4,7,10) #pair 4 and 7"
   ]
  },
  {
   "cell_type": "code",
   "execution_count": 27,
   "metadata": {},
   "outputs": [
    {
     "data": {
      "text/plain": [
       "(9, 10, 6)"
      ]
     },
     "execution_count": 27,
     "metadata": {},
     "output_type": "execute_result"
    }
   ],
   "source": [
    "cond_frob(4,6,10) #pair 4 and 6"
   ]
  },
  {
   "cell_type": "code",
   "execution_count": 28,
   "metadata": {},
   "outputs": [
    {
     "data": {
      "text/plain": [
       "(8, 9, 7)"
      ]
     },
     "execution_count": 28,
     "metadata": {},
     "output_type": "execute_result"
    }
   ],
   "source": [
    "cond_frob(7,9,10) #pair 7 and 9"
   ]
  },
  {
   "cell_type": "markdown",
   "metadata": {},
   "source": [
    "## Exercise 09\n",
    "\n",
    "(*) Prove that your computation of the conductor for $\\{4,\\,7\\}$ is correct.  Use your own words!"
   ]
  },
  {
   "cell_type": "code",
   "execution_count": 32,
   "metadata": {},
   "outputs": [
    {
     "data": {
      "text/plain": [
       "(17, 18, 9)"
      ]
     },
     "execution_count": 32,
     "metadata": {},
     "output_type": "execute_result"
    }
   ],
   "source": [
    "cond_frob(4,7,200) # COMPUTATION FROM CODE"
   ]
  },
  {
   "cell_type": "markdown",
   "metadata": {},
   "source": [
    "$1,2,3,4,5,6,7,8,9,10$\n",
    "\n",
    "- Between $1$ to $10$:\n",
    "    \n",
    "- can give: $4, 7, 8 $\n",
    "    \n",
    "- can't give: $1,2,3,5,6,9$\n",
    "\n",
    "- maximum can't give is $9$  and there are $6$ values can't give.\n",
    "\n",
    "- The $condutor = 10 + 1$ is a possible combination. Also, this experiment is in agreement with the results from the code.\n"
   ]
  },
  {
   "cell_type": "markdown",
   "metadata": {
    "tags": []
   },
   "source": [
    "## Exercise 10\n",
    "\n",
    "(*) Write a Python function (a function using `def` keyword) in _SageMath_ to list enough numbers for a general pair $\\{a,\\, b\\}$ where $a$ and $b$ are natural numbers to guess the conductor of $a$ and $b$. (And explain it!)"
   ]
  },
  {
   "cell_type": "code",
   "execution_count": 20,
   "metadata": {},
   "outputs": [],
   "source": [
    "def gen_pair(a,b, bound): #defining function\n",
    "    value= []  #initiating for looping\n",
    "    for n in range(bound): #starting for loop to iterates \"bound\" value times.\n",
    "        for m in range(bound):\n",
    "            value.append(a*n + b*m)\n",
    "    noneValue=[]\n",
    "    for j in range(bound):\n",
    "        if j not in value:\n",
    "            noneValue.append(j)\n",
    "    return max(noneValue)+1, value   #returns conductor"
   ]
  },
  {
   "cell_type": "code",
   "execution_count": 22,
   "metadata": {},
   "outputs": [
    {
     "name": "stdout",
     "output_type": "stream",
     "text": [
      "(10, [0, 4, 8, 12, 16, 20, 24, 28, 32, 36, 7, 11, 15, 19, 23, 27, 31, 35, 39, 43, 14, 18, 22, 26, 30, 34, 38, 42, 46, 50, 21, 25, 29, 33, 37, 41, 45, 49, 53, 57, 28, 32, 36, 40, 44, 48, 52, 56, 60, 64, 35, 39, 43, 47, 51, 55, 59, 63, 67, 71, 42, 46, 50, 54, 58, 62, 66, 70, 74, 78, 49, 53, 57, 61, 65, 69, 73, 77, 81, 85, 56, 60, 64, 68, 72, 76, 80, 84, 88, 92, 63, 67, 71, 75, 79, 83, 87, 91, 95, 99])\n"
     ]
    }
   ],
   "source": [
    "print(gen_pair(7,4,10))"
   ]
  },
  {
   "cell_type": "markdown",
   "metadata": {},
   "source": [
    "## Exercise 11 \n",
    "\n",
    "(*) Make a conjecture for a formula for the conductor and the Frobenius number, given the pair $\\{a,\\, b\\}$.  Also conjecture how many are not writable for the pair $\\{a,\\,b\\}$ in general.  Be sure to write down whatever evidence you have for these conjectures (no code needed).  Just stating a possible formula will not receive full credit, you must actually write about or show your experiments.  You do NOT need a proof."
   ]
  },
  {
   "cell_type": "markdown",
   "metadata": {},
   "source": [
    "***\n",
    "\n",
    "$frobenius = ab-a-b+1$\n",
    "\n",
    "$conductor = frobenius + 1$\n",
    "\n",
    "From exercise 09. If we increase the bound , say $bound=100$, $17$ stay as maximum of numbers not expressible. In other words, $17$ is the frobinius of combination of $4$ and $7$. And numbers $> 17$ are representable from the combination. We see that $18$ and above are expressible. $18$ is the conductor. And the conductor $18 = 3 \\times 6 = (4-1)(7-1) = (a-1)(b-1)$\n",
    "\n",
    "Therefore, we can observer, with different values of $a$ and $b$ we pick, that the conjecture is: $conductor = (a-1)(b-1)$ and $frobenius = (a-1)(b-1)-1 = ab-a-b.$"
   ]
  },
  {
   "cell_type": "code",
   "execution_count": null,
   "metadata": {},
   "outputs": [],
   "source": []
  },
  {
   "cell_type": "markdown",
   "metadata": {},
   "source": [
    "## Exercise 12\n",
    "\n",
    "(*) Write a <em>SageMath</em> or a <em>Python</em> procedure with the name `collatz_procedure` using Python's `while` loop construct that implements the [Collatz Problem](https://en.wikipedia.org/wiki/Collatz_conjecture). Your procedure should prints the sequences generated as a list for any positive integer. For example  `collatz_procedure(5)` should print `[5, 16, 8, 4, 2, 1]`."
   ]
  },
  {
   "cell_type": "code",
   "execution_count": 4,
   "metadata": {},
   "outputs": [],
   "source": [
    "def collatz_procedure(num):   #defining function for colllatz procedure\n",
    "    Z=[]   #initiating for looping\n",
    "    Z.append(num)\n",
    "    while num!=1:\n",
    "        if num%2==1:\n",
    "            proc=3*num+1   # process if gives remainder\n",
    "        elif num%2==0:\n",
    "            proc=num/2    #procedure if number divisible by 2\n",
    "        Z.append(proc)\n",
    "        num=proc\n",
    "    return Z   #returns Z"
   ]
  },
  {
   "cell_type": "code",
   "execution_count": 6,
   "metadata": {},
   "outputs": [
    {
     "data": {
      "text/plain": [
       "[5, 16, 8, 4, 2, 1]"
      ]
     },
     "execution_count": 6,
     "metadata": {},
     "output_type": "execute_result"
    }
   ],
   "source": [
    "collatz_procedure(5)"
   ]
  },
  {
   "cell_type": "markdown",
   "metadata": {},
   "source": [
    "## Exercise 13\n",
    "\n",
    "(*) Write a recursive function with the name `my_fibonacci_number` for the Fibonacci recurrence equation: \n",
    "\n",
    "$$F_{n} = F_{n-1} + F_{n-2}, \\qquad F_{0} = 1, \\quad F_{1} = 1.$$\n",
    "\n",
    "Your function should return the $n$-th [Fibonacci number](https://en.wikipedia.org/wiki/Fibonacci_number)."
   ]
  },
  {
   "cell_type": "code",
   "execution_count": 1,
   "metadata": {},
   "outputs": [],
   "source": [
    "def my_fibonacci_number(n):   #fibonnacci sequence function defined\n",
    "    B = {}   #initiating for looping\n",
    "    B[0]=1\n",
    "    B[1]=1\n",
    "    for i in range(2, n+1):\n",
    "        B[i]=B[i-1]+ B[i-2]        \n",
    "    return B[n]"
   ]
  },
  {
   "cell_type": "code",
   "execution_count": null,
   "metadata": {},
   "outputs": [],
   "source": []
  },
  {
   "cell_type": "markdown",
   "metadata": {},
   "source": [
    "(*) Test your fuction with the following inputs: $n=10,\\,50,\\,100$. Use the Python function `time` or `timeit` to check the real time or best computing time respectively. You may want to read the help documentation for `time` and `timeit` so you will know how they are used or you can also refer to notebook for the first day."
   ]
  },
  {
   "cell_type": "code",
   "execution_count": 2,
   "metadata": {},
   "outputs": [
    {
     "name": "stdout",
     "output_type": "stream",
     "text": [
      "n: 10 \t Fibonacci: 89 \t \t \t Time: 625 loops, best of 3: 76 μs per loop \n",
      "n: 50 \t Fibonacci: 20365011074 \t \t \t Time: 625 loops, best of 3: 371 μs per loop \n",
      "n: 100 \t Fibonacci: 573147844013817084101 \t \t \t Time: 625 loops, best of 3: 721 μs per loop \n"
     ]
    }
   ],
   "source": [
    "numbers = [10, 50, 100] \n",
    "for j in numbers :\n",
    "    print(\"n: {} \\t Fibonacci: {} \\t \\t \\t Time: {} \".format(j, my_fibonacci_number(j),timeit('my_fibonacci_number(j)')))"
   ]
  },
  {
   "cell_type": "code",
   "execution_count": 187,
   "metadata": {},
   "outputs": [
    {
     "data": {
      "text/plain": [
       "625 loops, best of 3: 67.8 μs per loop"
      ]
     },
     "execution_count": 187,
     "metadata": {},
     "output_type": "execute_result"
    }
   ],
   "source": []
  },
  {
   "cell_type": "markdown",
   "metadata": {},
   "source": [
    "## Exercise 14\n",
    "\n",
    "1. (*) Use the _SageMath_ documentation on `Graph` to construct a simple vertex labelled graph and give it the name `my_graph`.\n",
    "2. (*) Apply as at least five methods to the `Graph` object, `my_graph` that you created in part 1."
   ]
  },
  {
   "cell_type": "markdown",
   "metadata": {},
   "source": [
    "***\n",
    "\n",
    "1."
   ]
  },
  {
   "cell_type": "code",
   "execution_count": 37,
   "metadata": {},
   "outputs": [
    {
     "data": {
      "image/png": "[encoded data removed]",
      "text/plain": [
       "Graph on 9 vertices"
      ]
     },
     "execution_count": 37,
     "metadata": {},
     "output_type": "execute_result"
    }
   ],
   "source": [
    "my_graph = Graph({'a':[1,7,0], 'b':[1,2,3,4],'c':[0,2,3]}); #a simple vertex graph \n",
    "my_graph"
   ]
  },
  {
   "cell_type": "markdown",
   "metadata": {},
   "source": [
    "2."
   ]
  },
  {
   "cell_type": "code",
   "execution_count": 41,
   "metadata": {},
   "outputs": [],
   "source": [
    "my_graph.add_path(range(5))"
   ]
  },
  {
   "cell_type": "code",
   "execution_count": 42,
   "metadata": {},
   "outputs": [],
   "source": [
    "my_graph.add_cycle(range(7))"
   ]
  },
  {
   "cell_type": "code",
   "execution_count": 43,
   "metadata": {},
   "outputs": [],
   "source": [
    "my_graph.add_edge(range(10))"
   ]
  },
  {
   "cell_type": "code",
   "execution_count": 44,
   "metadata": {},
   "outputs": [],
   "source": [
    "my_graph.add_clique(range(2))"
   ]
  },
  {
   "cell_type": "code",
   "execution_count": 45,
   "metadata": {},
   "outputs": [],
   "source": [
    "my_graph.add_vertex(range(9))"
   ]
  },
  {
   "cell_type": "markdown",
   "metadata": {},
   "source": [
    "## Exercise 15 \n",
    "\n",
    "(*) Suppose there is a robot standing on one of the vertices of the graph, `my_graph`, that you defined in <a href=\"#exercise-14\"><b><font color=#AAFF00>Exercise 14</font></b></a>. This position can be chosen randomly. Write a python function or a procedure with the name `random_walk_on_graph` that takes a positive integer as input, `number_of_walks` — which is the number of walks made by the robot on the vertices of your graph — and returns a table that records the number of times the robot visited each vertex in your graph. What do you observe about the movement of the robot when `number_of_walks` takes on the values: $100, 1000, 5000$.\n",
    "\n",
    "\n",
    "__Hint__: Read the help documentation on the _SageMath_ functions `choice` and `table`. You may need them in your code. What did you observe from the tabulated data?"
   ]
  },
  {
   "cell_type": "code",
   "execution_count": 51,
   "metadata": {},
   "outputs": [],
   "source": [
    "def random_walk_on_graph(my_graph, number_of_walks):\n",
    "    \"\"\"\n",
    "    \"\"\"\n",
    "    keys=list(Dict())\n",
    "    start=choice(keys)\n",
    "    M = [start]\n",
    "    for i in range(walks):\n",
    "        l = choice(Dict[start])\n",
    "        if l in keys:\n",
    "            M.append(l)\n",
    "        start=l\n",
    "    R=[]\n",
    "    V=[]\n",
    "    for i in set(M):\n",
    "        le=M.count(i)\n",
    "        R.append(i)\n",
    "        V.append(le)\n",
    "    tab= table([R,V], header_column=['NAME','NUMBER OF VISITS'])\n",
    "    return tab"
   ]
  },
  {
   "cell_type": "code",
   "execution_count": 52,
   "metadata": {},
   "outputs": [
    {
     "ename": "NameError",
     "evalue": "name 'Dict' is not defined",
     "output_type": "error",
     "traceback": [
      "\u001b[0;31m---------------------------------------------------------------------------\u001b[0m",
      "\u001b[0;31mNameError\u001b[0m                                 Traceback (most recent call last)",
      "\u001b[0;32m<ipython-input-52-dc1a175d5ffc>\u001b[0m in \u001b[0;36m<module>\u001b[0;34m\u001b[0m\n\u001b[0;32m----> 1\u001b[0;31m \u001b[0mrandom_walk_on_graph\u001b[0m\u001b[0;34m(\u001b[0m\u001b[0mmy_graph\u001b[0m\u001b[0;34m,\u001b[0m \u001b[0mInteger\u001b[0m\u001b[0;34m(\u001b[0m\u001b[0;36m100\u001b[0m\u001b[0;34m)\u001b[0m\u001b[0;34m)\u001b[0m\u001b[0;34m\u001b[0m\u001b[0;34m\u001b[0m\u001b[0m\n\u001b[0m",
      "\u001b[0;32m<ipython-input-51-0e2816562535>\u001b[0m in \u001b[0;36mrandom_walk_on_graph\u001b[0;34m(my_graph, number_of_walks)\u001b[0m\n\u001b[1;32m      3\u001b[0m \u001b[0;34m\u001b[0m\u001b[0m\n\u001b[1;32m      4\u001b[0m     \"\"\"\n\u001b[0;32m----> 5\u001b[0;31m     \u001b[0mkeys\u001b[0m\u001b[0;34m=\u001b[0m\u001b[0mlist\u001b[0m\u001b[0;34m(\u001b[0m\u001b[0mDict\u001b[0m\u001b[0;34m(\u001b[0m\u001b[0;34m)\u001b[0m\u001b[0;34m)\u001b[0m\u001b[0;34m\u001b[0m\u001b[0;34m\u001b[0m\u001b[0m\n\u001b[0m\u001b[1;32m      6\u001b[0m     \u001b[0mstart\u001b[0m\u001b[0;34m=\u001b[0m\u001b[0mchoice\u001b[0m\u001b[0;34m(\u001b[0m\u001b[0mkeys\u001b[0m\u001b[0;34m)\u001b[0m\u001b[0;34m\u001b[0m\u001b[0;34m\u001b[0m\u001b[0m\n\u001b[1;32m      7\u001b[0m     \u001b[0mM\u001b[0m \u001b[0;34m=\u001b[0m \u001b[0;34m[\u001b[0m\u001b[0mstart\u001b[0m\u001b[0;34m]\u001b[0m\u001b[0;34m\u001b[0m\u001b[0;34m\u001b[0m\u001b[0m\n",
      "\u001b[0;31mNameError\u001b[0m: name 'Dict' is not defined"
     ]
    }
   ],
   "source": [
    "random_walk_on_graph(my_graph, 100)"
   ]
  },
  {
   "cell_type": "code",
   "execution_count": null,
   "metadata": {},
   "outputs": [],
   "source": [
    "random_walk_on_graph(my_graph, 1000)"
   ]
  },
  {
   "cell_type": "code",
   "execution_count": null,
   "metadata": {},
   "outputs": [],
   "source": [
    "random_walk_on_graph(my_graph, 5000)"
   ]
  }
 ],
 "metadata": {
  "kernelspec": {
   "display_name": "SageMath 9.2",
   "language": "sage",
   "name": "sagemath"
  },
  "language_info": {
   "codemirror_mode": {
    "name": "ipython",
    "version": 3
   },
   "file_extension": ".py",
   "mimetype": "text/x-python",
   "name": "python",
   "nbconvert_exporter": "python",
   "pygments_lexer": "ipython3",
   "version": "3.9.2"
  }
 },
 "nbformat": 4,
 "nbformat_minor": 4
}
